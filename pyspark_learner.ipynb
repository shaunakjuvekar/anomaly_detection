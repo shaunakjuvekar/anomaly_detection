{
 "cells": [
  {
   "cell_type": "code",
   "execution_count": 115,
   "metadata": {},
   "outputs": [],
   "source": [
    "import pandas as pd\n",
    "import pickle\n",
    "from pyspark import ml\n",
    "from pyspark.ml.feature import VectorAssembler\n",
    "\n",
    "pd.set_option('display.max_colwidth', None)"
   ]
  },
  {
   "cell_type": "code",
   "execution_count": 116,
   "metadata": {},
   "outputs": [
    {
     "name": "stdout",
     "output_type": "stream",
     "text": [
      "root\n",
      " |-- timestamp: string (nullable = true)\n",
      " |-- process_id: string (nullable = true)\n",
      " |-- username: string (nullable = true)\n",
      " |-- ip: string (nullable = true)\n",
      " |-- is_private: string (nullable = true)\n",
      " |-- is_root: string (nullable = true)\n",
      " |-- is_failure: string (nullable = true)\n",
      " |-- time_since_last_failure: string (nullable = true)\n",
      " |-- time_since_last_failure_of_same_type: string (nullable = true)\n",
      " |-- failure_count_in_last_15_mins: string (nullable = true)\n",
      " |-- failure_count_in_last_30_mins: string (nullable = true)\n",
      " |-- failure_count_in_last_60_mins: string (nullable = true)\n",
      " |-- label_auth_failure: string (nullable = true)\n",
      " |-- label_break_in_attempt: string (nullable = true)\n",
      " |-- label_connection_closed: string (nullable = true)\n",
      " |-- label_disconnect: string (nullable = true)\n",
      " |-- label_failed_password: string (nullable = true)\n",
      " |-- label_invalid_user: string (nullable = true)\n",
      " |-- label_no_label: string (nullable = true)\n",
      " |-- label_no_identification: string (nullable = true)\n",
      " |-- class: string (nullable = true)\n",
      "\n"
     ]
    }
   ],
   "source": [
    "from pyspark.sql import SparkSession\n",
    "spark = SparkSession.builder.appName('ml-anom').getOrCreate()\n",
    "processed_input = \"assets/log_data.csv\"\n",
    "\n",
    "input_df = spark.read.csv(processed_input,header='true')\n",
    "input_df.printSchema()"
   ]
  },
  {
   "cell_type": "code",
   "execution_count": 117,
   "metadata": {},
   "outputs": [
    {
     "name": "stdout",
     "output_type": "stream",
     "text": [
      "+------------+----------+---------+---------------+----------+-------+----------+-----------------------+------------------------------------+-----------------------------+-----------------------------+-----------------------------+------------------+----------------------+-----------------------+----------------+---------------------+------------------+--------------+-----------------------+-----+\n",
      "|   timestamp|process_id| username|             ip|is_private|is_root|is_failure|time_since_last_failure|time_since_last_failure_of_same_type|failure_count_in_last_15_mins|failure_count_in_last_30_mins|failure_count_in_last_60_mins|label_auth_failure|label_break_in_attempt|label_connection_closed|label_disconnect|label_failed_password|label_invalid_user|label_no_label|label_no_identification|class|\n",
      "+------------+----------+---------+---------------+----------+-------+----------+-----------------------+------------------------------------+-----------------------------+-----------------------------+-----------------------------+------------------+----------------------+-----------------------+----------------+---------------------+------------------+--------------+-----------------------+-----+\n",
      "|1670673346.0|     24200|     null| 173.234.31.186|         0|      0|         1|                    0.0|                                 0.0|                            0|                            0|                            0|                 0|                     1|                      0|               0|                    0|                 0|             0|                      0|    1|\n",
      "|1670673346.0|     24200|webmaster| 173.234.31.186|         0|      0|         1|                    0.0|                                 0.0|                            1|                            1|                            1|                 0|                     0|                      0|               0|                    0|                 1|             0|                      0|    0|\n",
      "|1670673346.0|     24200|     null| 173.234.31.186|         0|      0|         1|                    0.0|                                 0.0|                            2|                            2|                            2|                 1|                     0|                      0|               0|                    0|                 0|             0|                      0|    0|\n",
      "|1670673348.0|     24200|webmaster| 173.234.31.186|         0|      0|         1|                    2.0|                                 0.0|                            3|                            3|                            3|                 0|                     0|                      0|               0|                    1|                 0|             0|                      0|    0|\n",
      "|1670673348.0|     24200|     null| 173.234.31.186|         0|      0|         0|                    0.0|                                 0.0|                            0|                            0|                            0|                 0|                     0|                      1|               0|                    0|                 0|             0|                      0|    0|\n",
      "|1670673767.0|     24203|     null| 212.47.254.145|         0|      0|         0|                    0.0|                                 0.0|                            0|                            0|                            0|                 0|                     0|                      1|               0|                    0|                 0|             0|                      0|    0|\n",
      "|1670674058.0|     24206|    test9|   52.80.34.196|         0|      0|         1|                    0.0|                                 0.0|                            0|                            0|                            0|                 0|                     0|                      0|               0|                    0|                 1|             0|                      0|    0|\n",
      "|1670674065.0|     24206|    test9|   52.80.34.196|         0|      0|         1|                    7.0|                                 0.0|                            1|                            1|                            1|                 0|                     0|                      0|               0|                    1|                 0|             0|                      0|    0|\n",
      "|1670674065.0|     24206|     null|   52.80.34.196|         0|      0|         0|                    0.0|                                 0.0|                            0|                            0|                            0|                 0|                     0|                      0|               1|                    0|                 0|             0|                      0|    0|\n",
      "|1670674108.0|     24208|     null| 173.234.31.186|         0|      0|         1|                  760.0|                                 0.0|                            3|                            3|                            3|                 0|                     1|                      0|               0|                    0|                 0|             0|                      0|    1|\n",
      "|1670674108.0|     24208|webmaster| 173.234.31.186|         0|      0|         1|                    0.0|                                 0.0|                            4|                            4|                            4|                 0|                     0|                      0|               0|                    0|                 1|             0|                      0|    0|\n",
      "|1670674108.0|     24208|     null| 173.234.31.186|         0|      0|         1|                    0.0|                               762.0|                            5|                            5|                            5|                 1|                     0|                      0|               0|                    0|                 0|             0|                      0|    0|\n",
      "|1670674110.0|     24208|webmaster| 173.234.31.186|         0|      0|         1|                    2.0|                                 0.0|                            6|                            6|                            6|                 0|                     0|                      0|               0|                    1|                 0|             0|                      0|    0|\n",
      "|1670674110.0|     24208|     null| 173.234.31.186|         0|      0|         0|                    0.0|                                 0.0|                            0|                            0|                            0|                 0|                     0|                      1|               0|                    0|                 0|             0|                      0|    0|\n",
      "|1670674302.0|     24224|     chen|202.100.179.208|         0|      0|         1|                    0.0|                                 0.0|                            0|                            0|                            0|                 0|                     0|                      0|               0|                    0|                 1|             0|                      0|    0|\n",
      "|1670674302.0|     24224|     null|202.100.179.208|         0|      0|         1|                    0.0|                                 0.0|                            1|                            1|                            1|                 1|                     0|                      0|               0|                    0|                 0|             0|                      0|    0|\n",
      "|1670674304.0|     24224|     chen|202.100.179.208|         0|      0|         1|                    2.0|                                 0.0|                            2|                            2|                            2|                 0|                     0|                      0|               0|                    1|                 0|             0|                      0|    0|\n",
      "|1670674304.0|     24224|     null|202.100.179.208|         0|      0|         0|                    0.0|                                 0.0|                            0|                            0|                            0|                 0|                     0|                      0|               1|                    0|                 0|             0|                      0|    0|\n",
      "|1670674411.0|     24227|     root|     5.36.59.76|         0|      1|         1|                    0.0|                                 0.0|                            0|                            0|                            0|                 1|                     0|                      0|               0|                    0|                 0|             0|                      0|    0|\n",
      "|1670674423.0|     24227|     root|     5.36.59.76|         0|      1|         1|                   12.0|                                 0.0|                            1|                            1|                            1|                 0|                     0|                      0|               0|                    1|                 0|             0|                      0|    0|\n",
      "+------------+----------+---------+---------------+----------+-------+----------+-----------------------+------------------------------------+-----------------------------+-----------------------------+-----------------------------+------------------+----------------------+-----------------------+----------------+---------------------+------------------+--------------+-----------------------+-----+\n",
      "only showing top 20 rows\n",
      "\n"
     ]
    }
   ],
   "source": [
    "input_df.show()"
   ]
  },
  {
   "cell_type": "code",
   "execution_count": 118,
   "metadata": {},
   "outputs": [
    {
     "name": "stdout",
     "output_type": "stream",
     "text": [
      "+------------+----------+---------+---------------+----------+-------+----------+-----------------------+------------------------------------+-----------------------------+-----------------------------+-----------------------------+------------------+----------------------+-----------------------+----------------+---------------------+------------------+--------------+-----------------------+-----+\n",
      "|   timestamp|process_id| username|             ip|is_private|is_root|is_failure|time_since_last_failure|time_since_last_failure_of_same_type|failure_count_in_last_15_mins|failure_count_in_last_30_mins|failure_count_in_last_60_mins|label_auth_failure|label_break_in_attempt|label_connection_closed|label_disconnect|label_failed_password|label_invalid_user|label_no_label|label_no_identification|class|\n",
      "+------------+----------+---------+---------------+----------+-------+----------+-----------------------+------------------------------------+-----------------------------+-----------------------------+-----------------------------+------------------+----------------------+-----------------------+----------------+---------------------+------------------+--------------+-----------------------+-----+\n",
      "|1670673346.0|     24200|     null| 173.234.31.186|       0.0|    0.0|       1.0|                    0.0|                                 0.0|                          0.0|                          0.0|                          0.0|               0.0|                   1.0|                    0.0|             0.0|                  0.0|               0.0|           0.0|                    0.0|  1.0|\n",
      "|1670673346.0|     24200|webmaster| 173.234.31.186|       0.0|    0.0|       1.0|                    0.0|                                 0.0|                          1.0|                          1.0|                          1.0|               0.0|                   0.0|                    0.0|             0.0|                  0.0|               1.0|           0.0|                    0.0|  0.0|\n",
      "|1670673346.0|     24200|     null| 173.234.31.186|       0.0|    0.0|       1.0|                    0.0|                                 0.0|                          2.0|                          2.0|                          2.0|               1.0|                   0.0|                    0.0|             0.0|                  0.0|               0.0|           0.0|                    0.0|  0.0|\n",
      "|1670673348.0|     24200|webmaster| 173.234.31.186|       0.0|    0.0|       1.0|                    2.0|                                 0.0|                          3.0|                          3.0|                          3.0|               0.0|                   0.0|                    0.0|             0.0|                  1.0|               0.0|           0.0|                    0.0|  0.0|\n",
      "|1670673348.0|     24200|     null| 173.234.31.186|       0.0|    0.0|       0.0|                    0.0|                                 0.0|                          0.0|                          0.0|                          0.0|               0.0|                   0.0|                    1.0|             0.0|                  0.0|               0.0|           0.0|                    0.0|  0.0|\n",
      "|1670673767.0|     24203|     null| 212.47.254.145|       0.0|    0.0|       0.0|                    0.0|                                 0.0|                          0.0|                          0.0|                          0.0|               0.0|                   0.0|                    1.0|             0.0|                  0.0|               0.0|           0.0|                    0.0|  0.0|\n",
      "|1670674058.0|     24206|    test9|   52.80.34.196|       0.0|    0.0|       1.0|                    0.0|                                 0.0|                          0.0|                          0.0|                          0.0|               0.0|                   0.0|                    0.0|             0.0|                  0.0|               1.0|           0.0|                    0.0|  0.0|\n",
      "|1670674065.0|     24206|    test9|   52.80.34.196|       0.0|    0.0|       1.0|                    7.0|                                 0.0|                          1.0|                          1.0|                          1.0|               0.0|                   0.0|                    0.0|             0.0|                  1.0|               0.0|           0.0|                    0.0|  0.0|\n",
      "|1670674065.0|     24206|     null|   52.80.34.196|       0.0|    0.0|       0.0|                    0.0|                                 0.0|                          0.0|                          0.0|                          0.0|               0.0|                   0.0|                    0.0|             1.0|                  0.0|               0.0|           0.0|                    0.0|  0.0|\n",
      "|1670674108.0|     24208|     null| 173.234.31.186|       0.0|    0.0|       1.0|                  760.0|                                 0.0|                          3.0|                          3.0|                          3.0|               0.0|                   1.0|                    0.0|             0.0|                  0.0|               0.0|           0.0|                    0.0|  1.0|\n",
      "|1670674108.0|     24208|webmaster| 173.234.31.186|       0.0|    0.0|       1.0|                    0.0|                                 0.0|                          4.0|                          4.0|                          4.0|               0.0|                   0.0|                    0.0|             0.0|                  0.0|               1.0|           0.0|                    0.0|  0.0|\n",
      "|1670674108.0|     24208|     null| 173.234.31.186|       0.0|    0.0|       1.0|                    0.0|                               762.0|                          5.0|                          5.0|                          5.0|               1.0|                   0.0|                    0.0|             0.0|                  0.0|               0.0|           0.0|                    0.0|  0.0|\n",
      "|1670674110.0|     24208|webmaster| 173.234.31.186|       0.0|    0.0|       1.0|                    2.0|                                 0.0|                          6.0|                          6.0|                          6.0|               0.0|                   0.0|                    0.0|             0.0|                  1.0|               0.0|           0.0|                    0.0|  0.0|\n",
      "|1670674110.0|     24208|     null| 173.234.31.186|       0.0|    0.0|       0.0|                    0.0|                                 0.0|                          0.0|                          0.0|                          0.0|               0.0|                   0.0|                    1.0|             0.0|                  0.0|               0.0|           0.0|                    0.0|  0.0|\n",
      "|1670674302.0|     24224|     chen|202.100.179.208|       0.0|    0.0|       1.0|                    0.0|                                 0.0|                          0.0|                          0.0|                          0.0|               0.0|                   0.0|                    0.0|             0.0|                  0.0|               1.0|           0.0|                    0.0|  0.0|\n",
      "|1670674302.0|     24224|     null|202.100.179.208|       0.0|    0.0|       1.0|                    0.0|                                 0.0|                          1.0|                          1.0|                          1.0|               1.0|                   0.0|                    0.0|             0.0|                  0.0|               0.0|           0.0|                    0.0|  0.0|\n",
      "|1670674304.0|     24224|     chen|202.100.179.208|       0.0|    0.0|       1.0|                    2.0|                                 0.0|                          2.0|                          2.0|                          2.0|               0.0|                   0.0|                    0.0|             0.0|                  1.0|               0.0|           0.0|                    0.0|  0.0|\n",
      "|1670674304.0|     24224|     null|202.100.179.208|       0.0|    0.0|       0.0|                    0.0|                                 0.0|                          0.0|                          0.0|                          0.0|               0.0|                   0.0|                    0.0|             1.0|                  0.0|               0.0|           0.0|                    0.0|  0.0|\n",
      "|1670674411.0|     24227|     root|     5.36.59.76|       0.0|    1.0|       1.0|                    0.0|                                 0.0|                          0.0|                          0.0|                          0.0|               1.0|                   0.0|                    0.0|             0.0|                  0.0|               0.0|           0.0|                    0.0|  0.0|\n",
      "|1670674423.0|     24227|     root|     5.36.59.76|       0.0|    1.0|       1.0|                   12.0|                                 0.0|                          1.0|                          1.0|                          1.0|               0.0|                   0.0|                    0.0|             0.0|                  1.0|               0.0|           0.0|                    0.0|  0.0|\n",
      "+------------+----------+---------+---------------+----------+-------+----------+-----------------------+------------------------------------+-----------------------------+-----------------------------+-----------------------------+------------------+----------------------+-----------------------+----------------+---------------------+------------------+--------------+-----------------------+-----+\n",
      "only showing top 20 rows\n",
      "\n"
     ]
    }
   ],
   "source": [
    "from pyspark.sql.types import DoubleType\n",
    "from pyspark.sql.functions import col\n",
    "\n",
    "df2 = input_df.withColumn(\"is_private\",col(\"is_private\").cast(DoubleType())) \\\n",
    ".withColumn(\"is_root\",col(\"is_root\").cast(DoubleType())) \\\n",
    ".withColumn(\"is_failure\",col(\"is_failure\").cast(DoubleType())) \\\n",
    ".withColumn(\"time_since_last_failure_of_same_type\",col(\"time_since_last_failure_of_same_type\").cast(DoubleType())) \\\n",
    ".withColumn(\"failure_count_in_last_15_mins\",col(\"failure_count_in_last_15_mins\").cast(DoubleType())) \\\n",
    ".withColumn(\"failure_count_in_last_30_mins\",col(\"failure_count_in_last_30_mins\").cast(DoubleType())) \\\n",
    ".withColumn(\"failure_count_in_last_60_mins\",col(\"failure_count_in_last_60_mins\").cast(DoubleType())) \\\n",
    ".withColumn(\"label_auth_failure\",col(\"label_auth_failure\").cast(DoubleType())) \\\n",
    ".withColumn(\"label_break_in_attempt\",col(\"label_break_in_attempt\").cast(DoubleType())) \\\n",
    ".withColumn(\"label_connection_closed\",col(\"label_connection_closed\").cast(DoubleType())) \\\n",
    ".withColumn(\"label_disconnect\",col(\"label_disconnect\").cast(DoubleType())) \\\n",
    ".withColumn(\"label_failed_password\",col(\"label_failed_password\").cast(DoubleType())) \\\n",
    ".withColumn(\"label_invalid_user\",col(\"label_invalid_user\").cast(DoubleType())) \\\n",
    ".withColumn(\"label_no_label\",col(\"label_no_label\").cast(DoubleType())) \\\n",
    ".withColumn(\"label_no_identification\",col(\"label_no_identification\").cast(DoubleType())) \\\n",
    ".withColumn(\"class\",col(\"class\").cast(DoubleType()))\n",
    "df2.show()\n"
   ]
  },
  {
   "cell_type": "code",
   "execution_count": 119,
   "metadata": {},
   "outputs": [
    {
     "name": "stdout",
     "output_type": "stream",
     "text": [
      "+----------+-------+----------+------------------------------------+-----------------------------+-----------------------------+-----------------------------+------------------+----------------------+-----------------------+----------------+---------------------+------------------+--------------+-----------------------+-----+\n",
      "|is_private|is_root|is_failure|time_since_last_failure_of_same_type|failure_count_in_last_15_mins|failure_count_in_last_30_mins|failure_count_in_last_60_mins|label_auth_failure|label_break_in_attempt|label_connection_closed|label_disconnect|label_failed_password|label_invalid_user|label_no_label|label_no_identification|class|\n",
      "+----------+-------+----------+------------------------------------+-----------------------------+-----------------------------+-----------------------------+------------------+----------------------+-----------------------+----------------+---------------------+------------------+--------------+-----------------------+-----+\n",
      "|       0.0|    0.0|       1.0|                                 0.0|                          0.0|                          0.0|                          0.0|               0.0|                   1.0|                    0.0|             0.0|                  0.0|               0.0|           0.0|                    0.0|  1.0|\n",
      "|       0.0|    0.0|       1.0|                                 0.0|                          1.0|                          1.0|                          1.0|               0.0|                   0.0|                    0.0|             0.0|                  0.0|               1.0|           0.0|                    0.0|  0.0|\n",
      "|       0.0|    0.0|       1.0|                                 0.0|                          2.0|                          2.0|                          2.0|               1.0|                   0.0|                    0.0|             0.0|                  0.0|               0.0|           0.0|                    0.0|  0.0|\n",
      "|       0.0|    0.0|       1.0|                                 0.0|                          3.0|                          3.0|                          3.0|               0.0|                   0.0|                    0.0|             0.0|                  1.0|               0.0|           0.0|                    0.0|  0.0|\n",
      "|       0.0|    0.0|       0.0|                                 0.0|                          0.0|                          0.0|                          0.0|               0.0|                   0.0|                    1.0|             0.0|                  0.0|               0.0|           0.0|                    0.0|  0.0|\n",
      "|       0.0|    0.0|       0.0|                                 0.0|                          0.0|                          0.0|                          0.0|               0.0|                   0.0|                    1.0|             0.0|                  0.0|               0.0|           0.0|                    0.0|  0.0|\n",
      "|       0.0|    0.0|       1.0|                                 0.0|                          0.0|                          0.0|                          0.0|               0.0|                   0.0|                    0.0|             0.0|                  0.0|               1.0|           0.0|                    0.0|  0.0|\n",
      "|       0.0|    0.0|       1.0|                                 0.0|                          1.0|                          1.0|                          1.0|               0.0|                   0.0|                    0.0|             0.0|                  1.0|               0.0|           0.0|                    0.0|  0.0|\n",
      "|       0.0|    0.0|       0.0|                                 0.0|                          0.0|                          0.0|                          0.0|               0.0|                   0.0|                    0.0|             1.0|                  0.0|               0.0|           0.0|                    0.0|  0.0|\n",
      "|       0.0|    0.0|       1.0|                                 0.0|                          3.0|                          3.0|                          3.0|               0.0|                   1.0|                    0.0|             0.0|                  0.0|               0.0|           0.0|                    0.0|  1.0|\n",
      "|       0.0|    0.0|       1.0|                                 0.0|                          4.0|                          4.0|                          4.0|               0.0|                   0.0|                    0.0|             0.0|                  0.0|               1.0|           0.0|                    0.0|  0.0|\n",
      "|       0.0|    0.0|       1.0|                               762.0|                          5.0|                          5.0|                          5.0|               1.0|                   0.0|                    0.0|             0.0|                  0.0|               0.0|           0.0|                    0.0|  0.0|\n",
      "|       0.0|    0.0|       1.0|                                 0.0|                          6.0|                          6.0|                          6.0|               0.0|                   0.0|                    0.0|             0.0|                  1.0|               0.0|           0.0|                    0.0|  0.0|\n",
      "|       0.0|    0.0|       0.0|                                 0.0|                          0.0|                          0.0|                          0.0|               0.0|                   0.0|                    1.0|             0.0|                  0.0|               0.0|           0.0|                    0.0|  0.0|\n",
      "|       0.0|    0.0|       1.0|                                 0.0|                          0.0|                          0.0|                          0.0|               0.0|                   0.0|                    0.0|             0.0|                  0.0|               1.0|           0.0|                    0.0|  0.0|\n",
      "|       0.0|    0.0|       1.0|                                 0.0|                          1.0|                          1.0|                          1.0|               1.0|                   0.0|                    0.0|             0.0|                  0.0|               0.0|           0.0|                    0.0|  0.0|\n",
      "|       0.0|    0.0|       1.0|                                 0.0|                          2.0|                          2.0|                          2.0|               0.0|                   0.0|                    0.0|             0.0|                  1.0|               0.0|           0.0|                    0.0|  0.0|\n",
      "|       0.0|    0.0|       0.0|                                 0.0|                          0.0|                          0.0|                          0.0|               0.0|                   0.0|                    0.0|             1.0|                  0.0|               0.0|           0.0|                    0.0|  0.0|\n",
      "|       0.0|    1.0|       1.0|                                 0.0|                          0.0|                          0.0|                          0.0|               1.0|                   0.0|                    0.0|             0.0|                  0.0|               0.0|           0.0|                    0.0|  0.0|\n",
      "|       0.0|    1.0|       1.0|                                 0.0|                          1.0|                          1.0|                          1.0|               0.0|                   0.0|                    0.0|             0.0|                  1.0|               0.0|           0.0|                    0.0|  0.0|\n",
      "+----------+-------+----------+------------------------------------+-----------------------------+-----------------------------+-----------------------------+------------------+----------------------+-----------------------+----------------+---------------------+------------------+--------------+-----------------------+-----+\n",
      "only showing top 20 rows\n",
      "\n"
     ]
    }
   ],
   "source": [
    "df2 = df2.drop(\"timestamp\", \"process_id\", \"username\", \"ip\", \"time_since_last_failure\")\n",
    "df2.show()"
   ]
  },
  {
   "cell_type": "code",
   "execution_count": 120,
   "metadata": {},
   "outputs": [],
   "source": [
    "from pyspark.ml.feature import VectorAssembler\n",
    "\n",
    "vecCols = ['is_private', 'is_root', 'is_failure', 'time_since_last_failure_of_same_type', 'failure_count_in_last_15_mins',\n",
    "       'failure_count_in_last_30_mins', 'failure_count_in_last_60_mins','label_auth_failure', 'label_break_in_attempt',\n",
    "       'label_connection_closed', 'label_disconnect', 'label_failed_password',\n",
    "       'label_invalid_user', 'label_no_label', 'label_no_identification']\n",
    "assembler = VectorAssembler(inputCols=feature_list, outputCol=\"vectors\")\n",
    "df2 = assembler.transform(df2)"
   ]
  },
  {
   "cell_type": "code",
   "execution_count": 121,
   "metadata": {},
   "outputs": [],
   "source": [
    "train, test = df2.randomSplit([0.7, 0.3], seed = 2018)"
   ]
  },
  {
   "cell_type": "code",
   "execution_count": 122,
   "metadata": {},
   "outputs": [],
   "source": [
    "from pyspark.ml.classification import RandomForestClassifier\n",
    "\n",
    "model = RandomForestClassifier(featuresCol = 'vectors', labelCol = 'class')\n",
    "ranF = model.fit(train)"
   ]
  },
  {
   "cell_type": "code",
   "execution_count": 124,
   "metadata": {},
   "outputs": [
    {
     "ename": "TypeError",
     "evalue": "cannot pickle '_thread.RLock' object",
     "output_type": "error",
     "traceback": [
      "\u001b[1;31m---------------------------------------------------------------------------\u001b[0m",
      "\u001b[1;31mTypeError\u001b[0m                                 Traceback (most recent call last)",
      "Cell \u001b[1;32mIn[124], line 1\u001b[0m\n\u001b[1;32m----> 1\u001b[0m pickle\u001b[39m.\u001b[39;49mdump(ranF, \u001b[39mopen\u001b[39;49m(\u001b[39m'\u001b[39;49m\u001b[39mml_py_model.pkl\u001b[39;49m\u001b[39m'\u001b[39;49m, \u001b[39m'\u001b[39;49m\u001b[39mwb\u001b[39;49m\u001b[39m'\u001b[39;49m))\n",
      "\u001b[1;31mTypeError\u001b[0m: cannot pickle '_thread.RLock' object"
     ]
    }
   ],
   "source": [
    "pickle.dump(ranF, open('ml_py_model.pkl', 'wb'))"
   ]
  },
  {
   "cell_type": "code",
   "execution_count": 125,
   "metadata": {},
   "outputs": [],
   "source": [
    "pred = ranF.transform(test)"
   ]
  },
  {
   "cell_type": "code",
   "execution_count": 126,
   "metadata": {},
   "outputs": [
    {
     "name": "stdout",
     "output_type": "stream",
     "text": [
      "Accuracy = 1.0\n"
     ]
    }
   ],
   "source": [
    "from pyspark.ml.evaluation import MulticlassClassificationEvaluator\n",
    "\n",
    "eval = MulticlassClassificationEvaluator(labelCol=\"class\", predictionCol=\"prediction\")\n",
    "accuracy = eval.evaluate(pred)\n",
    "print(\"Accuracy = %s\" % (accuracy))"
   ]
  }
 ],
 "metadata": {
  "kernelspec": {
   "display_name": "Python 3",
   "language": "python",
   "name": "python3"
  },
  "language_info": {
   "codemirror_mode": {
    "name": "ipython",
    "version": 3
   },
   "file_extension": ".py",
   "mimetype": "text/x-python",
   "name": "python",
   "nbconvert_exporter": "python",
   "pygments_lexer": "ipython3",
   "version": "3.9.0"
  },
  "orig_nbformat": 4
 },
 "nbformat": 4,
 "nbformat_minor": 2
}
